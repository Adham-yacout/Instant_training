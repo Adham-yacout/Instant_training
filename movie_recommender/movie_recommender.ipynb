{
 "cells": [
  {
   "cell_type": "code",
   "execution_count": null,
   "id": "8a72fcae",
   "metadata": {
    "ExecuteTime": {
     "end_time": "2024-04-24T13:04:10.171715Z",
     "start_time": "2024-04-24T13:04:10.171715Z"
    }
   },
   "outputs": [],
   "source": [
    "import numpy as np\n",
    "import pandas as pd\n",
    "import matplotlib.pyplot as plt\n",
    "import seaborn as sns"
   ]
  },
  {
   "cell_type": "code",
   "execution_count": null,
   "id": "1461d52d",
   "metadata": {
    "ExecuteTime": {
     "end_time": "2024-04-24T13:04:10.180691Z",
     "start_time": "2024-04-24T13:04:10.180691Z"
    }
   },
   "outputs": [],
   "source": [
    "movies=pd.read_csv(\"C:/Users/adham/Downloads/movies.csv\")\n",
    "ratings=pd.read_csv(\"C:/Users/adham/Downloads/ratings.csv\")"
   ]
  },
  {
   "cell_type": "code",
   "execution_count": null,
   "id": "bb366ec5",
   "metadata": {
    "ExecuteTime": {
     "end_time": "2024-04-24T13:04:10.189668Z",
     "start_time": "2024-04-24T13:04:10.189668Z"
    }
   },
   "outputs": [],
   "source": [
    "movies.tail()"
   ]
  },
  {
   "cell_type": "code",
   "execution_count": null,
   "id": "c713bb23",
   "metadata": {
    "ExecuteTime": {
     "end_time": "2024-04-24T13:04:10.194656Z",
     "start_time": "2024-04-24T13:04:10.194656Z"
    }
   },
   "outputs": [],
   "source": [
    "ratings.head()"
   ]
  },
  {
   "cell_type": "code",
   "execution_count": null,
   "id": "bcb0b4c0",
   "metadata": {
    "ExecuteTime": {
     "end_time": "2024-04-24T13:04:10.199642Z",
     "start_time": "2024-04-24T13:04:10.199642Z"
    }
   },
   "outputs": [],
   "source": [
    "n_ratings =len(ratings)\n",
    "n_movies=ratings['movieId'].nunique()\n",
    "n_users=ratings['userId'].nunique()\n",
    "print(\"number of unique movies\",n_movies)\n",
    "print(\"number of unique users\",n_users)\n",
    "print(f\"Average number of ratings per user: {round(n_ratings/n_users, 2)}\")\n",
    "print(f\"Average number of ratings per movie: {round(n_ratings/n_movies, 2)}\")\n",
    "print(\"movies shape\",movies.shape)\n",
    "print(\"ratings shape\",ratings.shape)"
   ]
  },
  {
   "cell_type": "markdown",
   "id": "5d577178",
   "metadata": {},
   "source": [
    "## dense data set"
   ]
  },
  {
   "cell_type": "code",
   "execution_count": null,
   "id": "19d4d8db",
   "metadata": {
    "ExecuteTime": {
     "end_time": "2024-04-24T13:04:10.203630Z",
     "start_time": "2024-04-24T13:04:10.203630Z"
    }
   },
   "outputs": [],
   "source": [
    "sns.countplot(x=\"rating\",data=ratings)\n",
    "plt.title(\"Distribution of ratings\",fontsize=16)\n",
    "plt.show()"
   ]
  },
  {
   "cell_type": "code",
   "execution_count": null,
   "id": "2ac64559",
   "metadata": {
    "ExecuteTime": {
     "end_time": "2024-04-24T13:04:10.207621Z",
     "start_time": "2024-04-24T13:04:10.207621Z"
    }
   },
   "outputs": [],
   "source": [
    "print(f\"Mean global rating: {round(ratings['rating'].mean(),2)}.\")"
   ]
  },
  {
   "cell_type": "code",
   "execution_count": null,
   "id": "659c8ce8",
   "metadata": {
    "ExecuteTime": {
     "end_time": "2024-04-24T13:04:10.211610Z",
     "start_time": "2024-04-24T13:04:10.211610Z"
    }
   },
   "outputs": [],
   "source": [
    "movie_ratings = ratings.merge(movies,on=\"movieId\")\n",
    "movie_ratings['title'].value_counts()[0:10]"
   ]
  },
  {
   "cell_type": "code",
   "execution_count": null,
   "id": "8e84b086",
   "metadata": {
    "ExecuteTime": {
     "end_time": "2024-04-24T13:04:10.214601Z",
     "start_time": "2024-04-24T13:04:10.214601Z"
    }
   },
   "outputs": [],
   "source": [
    "mean_ratings = ratings.groupby('movieId')[['rating']].mean()\n",
    "lowest_rated = mean_ratings['rating'].idxmin()\n",
    "\n",
    "movies[movies['movieId'] == lowest_rated ]"
   ]
  },
  {
   "cell_type": "code",
   "execution_count": null,
   "id": "d69b04b5",
   "metadata": {
    "ExecuteTime": {
     "end_time": "2024-04-24T13:04:10.217594Z",
     "start_time": "2024-04-24T13:04:10.217594Z"
    }
   },
   "outputs": [],
   "source": [
    "highest_rated = mean_ratings['rating'].idxmax()\n",
    "\n",
    "print(movies[movies['movieId'] == highest_rated ])\n",
    "\n",
    "ratings[ratings['movieId']==highest_rated]"
   ]
  },
  {
   "cell_type": "markdown",
   "id": "d4952f8f",
   "metadata": {},
   "source": [
    "### it has only 2 ratings this isnt a correct answer so we will use bayesian average"
   ]
  },
  {
   "cell_type": "code",
   "execution_count": null,
   "id": "09fca0a3",
   "metadata": {
    "ExecuteTime": {
     "end_time": "2024-04-24T13:04:10.221583Z",
     "start_time": "2024-04-24T13:04:10.221583Z"
    }
   },
   "outputs": [],
   "source": [
    "movie_stats = ratings.groupby('movieId')['rating'].agg(['count', 'mean'])\n",
    "movie_stats.head()"
   ]
  },
  {
   "cell_type": "code",
   "execution_count": 117,
   "id": "cd56051b",
   "metadata": {
    "ExecuteTime": {
     "end_time": "2024-04-24T14:33:44.767074Z",
     "start_time": "2024-04-24T14:33:44.746772Z"
    }
   },
   "outputs": [
    {
     "name": "stdout",
     "output_type": "stream",
     "text": [
      "Average number of ratings for a given movie: 10.37\n",
      "Average rating for a given movie: 3.26\n"
     ]
    }
   ],
   "source": [
    "C = movie_stats['count'].mean()\n",
    "m = movie_stats['mean'].mean()\n",
    "\n",
    "print(f\"Average number of ratings for a given movie: {C:.2f}\")\n",
    "print(f\"Average rating for a given movie: {m:.2f}\")\n",
    "def bayesian_avg(ratings):\n",
    "    bayesian_avg = (C*m+ratings.sum())/(C+ratings.count())\n",
    "    return round(bayesian_avg, 3)"
   ]
  },
  {
   "cell_type": "code",
   "execution_count": 113,
   "id": "40572ea5",
   "metadata": {
    "ExecuteTime": {
     "end_time": "2024-04-24T14:33:09.205316Z",
     "start_time": "2024-04-24T14:33:07.490970Z"
    }
   },
   "outputs": [],
   "source": [
    "bayesian_avg_ratings = ratings.groupby('movieId')['rating'].agg(bayesian_avg).reset_index()\n",
    "bayesian_avg_ratings.columns = ['movieId', 'bayesian_avg']\n",
    "movie_stats = movie_stats.merge(bayesian_avg_ratings, on='movieId')"
   ]
  },
  {
   "cell_type": "code",
   "execution_count": null,
   "id": "050aa47d",
   "metadata": {
    "ExecuteTime": {
     "end_time": "2024-04-24T13:04:10.233551Z",
     "start_time": "2024-04-24T13:04:10.233551Z"
    }
   },
   "outputs": [],
   "source": [
    "movie_stats = movie_stats.merge(movies[['movieId', 'title']])\n",
    "movie_stats.sort_values('bayesian_avg', ascending=False).head()"
   ]
  },
  {
   "cell_type": "code",
   "execution_count": null,
   "id": "37afaee4",
   "metadata": {
    "ExecuteTime": {
     "end_time": "2024-04-24T13:04:10.237541Z",
     "start_time": "2024-04-24T13:04:10.237541Z"
    }
   },
   "outputs": [],
   "source": [
    "movie_stats.sort_values('bayesian_avg', ascending=True).tail()"
   ]
  },
  {
   "cell_type": "code",
   "execution_count": null,
   "id": "a5b47f46",
   "metadata": {
    "ExecuteTime": {
     "end_time": "2024-04-24T13:04:10.241530Z",
     "start_time": "2024-04-24T13:04:10.241530Z"
    }
   },
   "outputs": [],
   "source": [
    "movies['genres'] = movies['genres'].apply(lambda x: x.split(\"|\"))\n",
    "movies.head()"
   ]
  },
  {
   "cell_type": "code",
   "execution_count": null,
   "id": "e38aa386",
   "metadata": {
    "ExecuteTime": {
     "end_time": "2024-04-24T13:04:10.245518Z",
     "start_time": "2024-04-24T13:04:10.245518Z"
    }
   },
   "outputs": [],
   "source": [
    "from collections import Counter\n",
    "\n",
    "genre_frequency = Counter(g for genres in movies['genres'] for g in genres)\n",
    "\n",
    "print(f\"There are {len(genre_frequency)} genres.\")\n",
    "\n",
    "print(genre_frequency)\n",
    "print(\"the most common 7\\n\",genre_frequency.most_common(7))"
   ]
  },
  {
   "cell_type": "code",
   "execution_count": null,
   "id": "1349386b",
   "metadata": {
    "ExecuteTime": {
     "end_time": "2024-04-24T13:04:10.249506Z",
     "start_time": "2024-04-24T13:04:10.249506Z"
    }
   },
   "outputs": [],
   "source": [
    "genre_frequency_df = pd.DataFrame([genre_frequency]).T.reset_index()\n",
    "genre_frequency_df.columns = ['genre', 'count']\n",
    "\n",
    "sns.barplot(x='genre', y='count', data=genre_frequency_df.sort_values(by='count', ascending=True))\n",
    "plt.xticks(rotation=90)\n",
    "plt.show()"
   ]
  },
  {
   "cell_type": "markdown",
   "id": "a4633d6e",
   "metadata": {},
   "source": [
    "## now we will start creating the collabrative filter\n",
    "#### the first step is that we need to create our user movies matrix we different user rate different movies\n"
   ]
  },
  {
   "cell_type": "code",
   "execution_count": null,
   "id": "12bb498e",
   "metadata": {
    "ExecuteTime": {
     "end_time": "2024-04-24T13:04:10.256490Z",
     "start_time": "2024-04-24T13:04:10.256490Z"
    }
   },
   "outputs": [],
   "source": [
    "from scipy.sparse import csr_matrix\n",
    "\n",
    "def create_X(df):\n",
    "    \"\"\"\n",
    "    Generates a sparse matrix from ratings dataframe.\n",
    "    \n",
    "    Returns:\n",
    "        X: sparse matrix\n",
    "        user_mapper:  maps user id's to user indices \n",
    "        user_inv_mapper: dict that maps user indices to user id's\n",
    "        movie_mapper: dict that maps movie id's to movie indices\n",
    "        movie_inv_mapper: dict that maps movie indices to movie id's\n",
    "    \"\"\"\n",
    "#     M represents the number of unique users, and N represents the number of unique movies\n",
    "    M = df['userId'].nunique()\n",
    "    N = df['movieId'].nunique()\n",
    "\n",
    "    user_mapper = dict(zip(np.unique(df[\"userId\"]), list(range(M))))  # index lel users kol user bel id elly hsntgh beeh\n",
    "    movie_mapper = dict(zip(np.unique(df[\"movieId\"]), list(range(N)))) # index lel movies kol movie bel id elly hsntgh beeh\n",
    "#     user_inv_mapper is the reverse mapping, converting indices back to original user IDs.\n",
    "#     movie_inv_mapper is the same for movie indices back to original movie IDs.\n",
    "    user_inv_mapper = dict(zip(list(range(M)), np.unique(df[\"userId\"])))\n",
    "    movie_inv_mapper = dict(zip(list(range(N)), np.unique(df[\"movieId\"])))\n",
    "    \n",
    "    user_index = [user_mapper[i] for i in df['userId']]\n",
    "    item_index = [movie_mapper[i] for i in df['movieId']]\n",
    "\n",
    "    X = csr_matrix((df[\"rating\"], (user_index,item_index)), shape=(M,N))\n",
    "    \n",
    "    return X, user_mapper, movie_mapper, user_inv_mapper, movie_inv_mapper\n",
    "\n",
    "X, user_mapper, movie_mapper, user_inv_mapper, movie_inv_mapper = create_X(ratings)"
   ]
  },
  {
   "cell_type": "code",
   "execution_count": null,
   "id": "a7b96889",
   "metadata": {
    "ExecuteTime": {
     "end_time": "2024-04-24T13:04:10.261476Z",
     "start_time": "2024-04-24T13:04:10.261476Z"
    }
   },
   "outputs": [],
   "source": [
    "X.shape"
   ]
  },
  {
   "cell_type": "markdown",
   "id": "b67e4bb7",
   "metadata": {
    "ExecuteTime": {
     "end_time": "2024-04-23T14:23:11.403976Z",
     "start_time": "2024-04-23T14:23:11.377321Z"
    }
   },
   "source": [
    "### calculates how sparse is the matrix"
   ]
  },
  {
   "cell_type": "code",
   "execution_count": null,
   "id": "e913ff13",
   "metadata": {
    "ExecuteTime": {
     "end_time": "2024-04-24T13:04:10.265466Z",
     "start_time": "2024-04-24T13:04:10.265466Z"
    }
   },
   "outputs": [],
   "source": [
    "n_total = X.shape[0]*X.shape[1] ##multiply m*n to get all elemnts\n",
    "n_ratings = X.nnz #nnz counts stored values in matrix\n",
    "sparsity = n_ratings/n_total\n",
    "print(f\"Matrix sparsity: {round(sparsity*100,2)}%\")"
   ]
  },
  {
   "cell_type": "markdown",
   "id": "10c220e9",
   "metadata": {},
   "source": [
    "## lets explore most rated movies and most rating users"
   ]
  },
  {
   "cell_type": "code",
   "execution_count": null,
   "id": "7c3b97e5",
   "metadata": {
    "ExecuteTime": {
     "end_time": "2024-04-24T13:04:10.269456Z",
     "start_time": "2024-04-24T13:04:10.269456Z"
    }
   },
   "outputs": [],
   "source": [
    "n_ratings_per_user = X.getnnz(axis=1)\n",
    "len(n_ratings_per_user)\n",
    "n_ratings_per_user = X.getnnz(axis=1)\n",
    "\n",
    "n_ratings_per_movie = X.getnnz(axis=0)\n",
    "len(n_ratings_per_movie)\n",
    "print(f\"Most active user rated {n_ratings_per_user.max()} movies.\")\n",
    "print(f\"Least active user rated {n_ratings_per_user.min()} movies.\")\n",
    "len(n_ratings_per_user)\n",
    "print(f\"Most rated movie has {n_ratings_per_movie.max()} ratings.\")\n",
    "print(f\"Least rated movie has {n_ratings_per_movie.min()} ratings.\")"
   ]
  },
  {
   "cell_type": "code",
   "execution_count": null,
   "id": "9ca6a2f6",
   "metadata": {
    "ExecuteTime": {
     "end_time": "2024-04-24T13:04:10.273445Z",
     "start_time": "2024-04-24T13:04:10.273445Z"
    }
   },
   "outputs": [],
   "source": [
    "pip install fuzzywuzzy\n",
    "pip install python-levenshtein"
   ]
  },
  {
   "cell_type": "code",
   "execution_count": 75,
   "id": "912cfa3d",
   "metadata": {
    "ExecuteTime": {
     "end_time": "2024-04-24T14:08:41.854284Z",
     "start_time": "2024-04-24T14:08:41.837223Z"
    }
   },
   "outputs": [],
   "source": [
    "from sklearn.neighbors import NearestNeighbors\n",
    "\n",
    "def find_similar_movies(movie_id, X, movie_mapper, movie_inv_mapper, k, metric='cosine'):\n",
    "    \n",
    "    X = X.T #transpose x\n",
    "    neighbour_ids = []\n",
    "    \n",
    "    movie_ind = movie_mapper[movie_id] #get real index of movie\n",
    "    movie_vec = X[movie_ind] # retrieve all user ratings for movies\n",
    "    if isinstance(movie_vec, (np.ndarray)):\n",
    "        movie_vec = movie_vec.reshape(1,-1)\n",
    "    # use k+1 since kNN output includes the movieId of interest\n",
    "    kNN = NearestNeighbors(n_neighbors=k+1, algorithm=\"brute\", metric=metric)\n",
    "    kNN.fit(X)\n",
    "    neighbour = kNN.kneighbors(movie_vec, return_distance=False)\n",
    "    for i in range(0,k):\n",
    "        n = neighbour.item(i)\n",
    "        neighbour_ids.append(movie_inv_mapper[n])\n",
    "    neighbour_ids.pop(0)\n",
    "    return neighbour_ids"
   ]
  },
  {
   "cell_type": "code",
   "execution_count": 93,
   "id": "077d5625",
   "metadata": {
    "ExecuteTime": {
     "end_time": "2024-04-24T14:11:33.340871Z",
     "start_time": "2024-04-24T14:11:33.329393Z"
    }
   },
   "outputs": [],
   "source": [
    "movie_titles = dict(zip(movies['movieId'], movies['title']))"
   ]
  },
  {
   "cell_type": "code",
   "execution_count": 96,
   "id": "5046bc28",
   "metadata": {
    "ExecuteTime": {
     "end_time": "2024-04-24T14:11:56.006867Z",
     "start_time": "2024-04-24T14:11:55.998688Z"
    }
   },
   "outputs": [],
   "source": [
    "\n",
    "def get_similar_movies(movie_id,k):\n",
    "    similar_movies = find_similar_movies(movie_id, X, movie_mapper, movie_inv_mapper, metric='cosine', k=k)\n",
    "    movie_title = movie_titles[movie_id]\n",
    "\n",
    "    print(f\"Because you watched {movie_title}:\")\n",
    "    for i in similar_movies:\n",
    "        print(movie_titles[i])"
   ]
  },
  {
   "cell_type": "code",
   "execution_count": 98,
   "id": "67835289",
   "metadata": {
    "ExecuteTime": {
     "end_time": "2024-04-24T14:12:09.057341Z",
     "start_time": "2024-04-24T14:12:09.035144Z"
    }
   },
   "outputs": [
    {
     "name": "stdout",
     "output_type": "stream",
     "text": [
      "Because you watched Harry Potter and the Order of the Phoenix (2007):\n",
      "Harry Potter and the Goblet of Fire (2005)\n",
      "Harry Potter and the Half-Blood Prince (2009)\n",
      "Harry Potter and the Deathly Hallows: Part 1 (2010)\n",
      "Harry Potter and the Chamber of Secrets (2002)\n"
     ]
    }
   ],
   "source": [
    "movie_id = 54001\n",
    "get_similar_movies(movie_id,5)\n"
   ]
  },
  {
   "cell_type": "markdown",
   "id": "e8097aeb",
   "metadata": {},
   "source": [
    "## now we will switch to content based model"
   ]
  },
  {
   "cell_type": "code",
   "execution_count": 100,
   "id": "86f238c3",
   "metadata": {
    "ExecuteTime": {
     "end_time": "2024-04-24T14:13:32.087779Z",
     "start_time": "2024-04-24T14:13:31.900201Z"
    }
   },
   "outputs": [],
   "source": [
    "genres = set(g for G in movies['genres'] for g in G)\n",
    "\n",
    "for g in genres:\n",
    "    movies[g] = movies.genres.transform(lambda x: int(g in x))\n",
    "    \n",
    "movie_genres = movies.drop(columns=['movieId', 'title','genres'])"
   ]
  },
  {
   "cell_type": "code",
   "execution_count": 103,
   "id": "4f4d5d74",
   "metadata": {
    "ExecuteTime": {
     "end_time": "2024-04-24T14:13:51.387899Z",
     "start_time": "2024-04-24T14:13:51.360749Z"
    }
   },
   "outputs": [
    {
     "data": {
      "text/html": [
       "<div>\n",
       "<style scoped>\n",
       "    .dataframe tbody tr th:only-of-type {\n",
       "        vertical-align: middle;\n",
       "    }\n",
       "\n",
       "    .dataframe tbody tr th {\n",
       "        vertical-align: top;\n",
       "    }\n",
       "\n",
       "    .dataframe thead th {\n",
       "        text-align: right;\n",
       "    }\n",
       "</style>\n",
       "<table border=\"1\" class=\"dataframe\">\n",
       "  <thead>\n",
       "    <tr style=\"text-align: right;\">\n",
       "      <th></th>\n",
       "      <th>Children</th>\n",
       "      <th>War</th>\n",
       "      <th>IMAX</th>\n",
       "      <th>Adventure</th>\n",
       "      <th>Musical</th>\n",
       "      <th>Animation</th>\n",
       "      <th>(no genres listed)</th>\n",
       "      <th>Mystery</th>\n",
       "      <th>Crime</th>\n",
       "      <th>Film-Noir</th>\n",
       "      <th>Documentary</th>\n",
       "      <th>Sci-Fi</th>\n",
       "      <th>Action</th>\n",
       "      <th>Thriller</th>\n",
       "      <th>Horror</th>\n",
       "      <th>Romance</th>\n",
       "      <th>Comedy</th>\n",
       "      <th>Drama</th>\n",
       "      <th>Western</th>\n",
       "      <th>Fantasy</th>\n",
       "    </tr>\n",
       "  </thead>\n",
       "  <tbody>\n",
       "    <tr>\n",
       "      <th>0</th>\n",
       "      <td>1</td>\n",
       "      <td>0</td>\n",
       "      <td>0</td>\n",
       "      <td>1</td>\n",
       "      <td>0</td>\n",
       "      <td>1</td>\n",
       "      <td>0</td>\n",
       "      <td>0</td>\n",
       "      <td>0</td>\n",
       "      <td>0</td>\n",
       "      <td>0</td>\n",
       "      <td>0</td>\n",
       "      <td>0</td>\n",
       "      <td>0</td>\n",
       "      <td>0</td>\n",
       "      <td>0</td>\n",
       "      <td>1</td>\n",
       "      <td>0</td>\n",
       "      <td>0</td>\n",
       "      <td>1</td>\n",
       "    </tr>\n",
       "    <tr>\n",
       "      <th>1</th>\n",
       "      <td>1</td>\n",
       "      <td>0</td>\n",
       "      <td>0</td>\n",
       "      <td>1</td>\n",
       "      <td>0</td>\n",
       "      <td>0</td>\n",
       "      <td>0</td>\n",
       "      <td>0</td>\n",
       "      <td>0</td>\n",
       "      <td>0</td>\n",
       "      <td>0</td>\n",
       "      <td>0</td>\n",
       "      <td>0</td>\n",
       "      <td>0</td>\n",
       "      <td>0</td>\n",
       "      <td>0</td>\n",
       "      <td>0</td>\n",
       "      <td>0</td>\n",
       "      <td>0</td>\n",
       "      <td>1</td>\n",
       "    </tr>\n",
       "    <tr>\n",
       "      <th>2</th>\n",
       "      <td>0</td>\n",
       "      <td>0</td>\n",
       "      <td>0</td>\n",
       "      <td>0</td>\n",
       "      <td>0</td>\n",
       "      <td>0</td>\n",
       "      <td>0</td>\n",
       "      <td>0</td>\n",
       "      <td>0</td>\n",
       "      <td>0</td>\n",
       "      <td>0</td>\n",
       "      <td>0</td>\n",
       "      <td>0</td>\n",
       "      <td>0</td>\n",
       "      <td>0</td>\n",
       "      <td>1</td>\n",
       "      <td>1</td>\n",
       "      <td>0</td>\n",
       "      <td>0</td>\n",
       "      <td>0</td>\n",
       "    </tr>\n",
       "    <tr>\n",
       "      <th>3</th>\n",
       "      <td>0</td>\n",
       "      <td>0</td>\n",
       "      <td>0</td>\n",
       "      <td>0</td>\n",
       "      <td>0</td>\n",
       "      <td>0</td>\n",
       "      <td>0</td>\n",
       "      <td>0</td>\n",
       "      <td>0</td>\n",
       "      <td>0</td>\n",
       "      <td>0</td>\n",
       "      <td>0</td>\n",
       "      <td>0</td>\n",
       "      <td>0</td>\n",
       "      <td>0</td>\n",
       "      <td>1</td>\n",
       "      <td>1</td>\n",
       "      <td>1</td>\n",
       "      <td>0</td>\n",
       "      <td>0</td>\n",
       "    </tr>\n",
       "    <tr>\n",
       "      <th>4</th>\n",
       "      <td>0</td>\n",
       "      <td>0</td>\n",
       "      <td>0</td>\n",
       "      <td>0</td>\n",
       "      <td>0</td>\n",
       "      <td>0</td>\n",
       "      <td>0</td>\n",
       "      <td>0</td>\n",
       "      <td>0</td>\n",
       "      <td>0</td>\n",
       "      <td>0</td>\n",
       "      <td>0</td>\n",
       "      <td>0</td>\n",
       "      <td>0</td>\n",
       "      <td>0</td>\n",
       "      <td>0</td>\n",
       "      <td>1</td>\n",
       "      <td>0</td>\n",
       "      <td>0</td>\n",
       "      <td>0</td>\n",
       "    </tr>\n",
       "    <tr>\n",
       "      <th>...</th>\n",
       "      <td>...</td>\n",
       "      <td>...</td>\n",
       "      <td>...</td>\n",
       "      <td>...</td>\n",
       "      <td>...</td>\n",
       "      <td>...</td>\n",
       "      <td>...</td>\n",
       "      <td>...</td>\n",
       "      <td>...</td>\n",
       "      <td>...</td>\n",
       "      <td>...</td>\n",
       "      <td>...</td>\n",
       "      <td>...</td>\n",
       "      <td>...</td>\n",
       "      <td>...</td>\n",
       "      <td>...</td>\n",
       "      <td>...</td>\n",
       "      <td>...</td>\n",
       "      <td>...</td>\n",
       "      <td>...</td>\n",
       "    </tr>\n",
       "    <tr>\n",
       "      <th>9737</th>\n",
       "      <td>0</td>\n",
       "      <td>0</td>\n",
       "      <td>0</td>\n",
       "      <td>0</td>\n",
       "      <td>0</td>\n",
       "      <td>1</td>\n",
       "      <td>0</td>\n",
       "      <td>0</td>\n",
       "      <td>0</td>\n",
       "      <td>0</td>\n",
       "      <td>0</td>\n",
       "      <td>0</td>\n",
       "      <td>1</td>\n",
       "      <td>0</td>\n",
       "      <td>0</td>\n",
       "      <td>0</td>\n",
       "      <td>1</td>\n",
       "      <td>0</td>\n",
       "      <td>0</td>\n",
       "      <td>1</td>\n",
       "    </tr>\n",
       "    <tr>\n",
       "      <th>9738</th>\n",
       "      <td>0</td>\n",
       "      <td>0</td>\n",
       "      <td>0</td>\n",
       "      <td>0</td>\n",
       "      <td>0</td>\n",
       "      <td>1</td>\n",
       "      <td>0</td>\n",
       "      <td>0</td>\n",
       "      <td>0</td>\n",
       "      <td>0</td>\n",
       "      <td>0</td>\n",
       "      <td>0</td>\n",
       "      <td>0</td>\n",
       "      <td>0</td>\n",
       "      <td>0</td>\n",
       "      <td>0</td>\n",
       "      <td>1</td>\n",
       "      <td>0</td>\n",
       "      <td>0</td>\n",
       "      <td>1</td>\n",
       "    </tr>\n",
       "    <tr>\n",
       "      <th>9739</th>\n",
       "      <td>0</td>\n",
       "      <td>0</td>\n",
       "      <td>0</td>\n",
       "      <td>0</td>\n",
       "      <td>0</td>\n",
       "      <td>0</td>\n",
       "      <td>0</td>\n",
       "      <td>0</td>\n",
       "      <td>0</td>\n",
       "      <td>0</td>\n",
       "      <td>0</td>\n",
       "      <td>0</td>\n",
       "      <td>0</td>\n",
       "      <td>0</td>\n",
       "      <td>0</td>\n",
       "      <td>0</td>\n",
       "      <td>0</td>\n",
       "      <td>1</td>\n",
       "      <td>0</td>\n",
       "      <td>0</td>\n",
       "    </tr>\n",
       "    <tr>\n",
       "      <th>9740</th>\n",
       "      <td>0</td>\n",
       "      <td>0</td>\n",
       "      <td>0</td>\n",
       "      <td>0</td>\n",
       "      <td>0</td>\n",
       "      <td>1</td>\n",
       "      <td>0</td>\n",
       "      <td>0</td>\n",
       "      <td>0</td>\n",
       "      <td>0</td>\n",
       "      <td>0</td>\n",
       "      <td>0</td>\n",
       "      <td>1</td>\n",
       "      <td>0</td>\n",
       "      <td>0</td>\n",
       "      <td>0</td>\n",
       "      <td>0</td>\n",
       "      <td>0</td>\n",
       "      <td>0</td>\n",
       "      <td>0</td>\n",
       "    </tr>\n",
       "    <tr>\n",
       "      <th>9741</th>\n",
       "      <td>0</td>\n",
       "      <td>0</td>\n",
       "      <td>0</td>\n",
       "      <td>0</td>\n",
       "      <td>0</td>\n",
       "      <td>0</td>\n",
       "      <td>0</td>\n",
       "      <td>0</td>\n",
       "      <td>0</td>\n",
       "      <td>0</td>\n",
       "      <td>0</td>\n",
       "      <td>0</td>\n",
       "      <td>0</td>\n",
       "      <td>0</td>\n",
       "      <td>0</td>\n",
       "      <td>0</td>\n",
       "      <td>1</td>\n",
       "      <td>0</td>\n",
       "      <td>0</td>\n",
       "      <td>0</td>\n",
       "    </tr>\n",
       "  </tbody>\n",
       "</table>\n",
       "<p>9742 rows × 20 columns</p>\n",
       "</div>"
      ],
      "text/plain": [
       "      Children  War  IMAX  Adventure  Musical  Animation  (no genres listed)  \\\n",
       "0            1    0     0          1        0          1                   0   \n",
       "1            1    0     0          1        0          0                   0   \n",
       "2            0    0     0          0        0          0                   0   \n",
       "3            0    0     0          0        0          0                   0   \n",
       "4            0    0     0          0        0          0                   0   \n",
       "...        ...  ...   ...        ...      ...        ...                 ...   \n",
       "9737         0    0     0          0        0          1                   0   \n",
       "9738         0    0     0          0        0          1                   0   \n",
       "9739         0    0     0          0        0          0                   0   \n",
       "9740         0    0     0          0        0          1                   0   \n",
       "9741         0    0     0          0        0          0                   0   \n",
       "\n",
       "      Mystery  Crime  Film-Noir  Documentary  Sci-Fi  Action  Thriller  \\\n",
       "0           0      0          0            0       0       0         0   \n",
       "1           0      0          0            0       0       0         0   \n",
       "2           0      0          0            0       0       0         0   \n",
       "3           0      0          0            0       0       0         0   \n",
       "4           0      0          0            0       0       0         0   \n",
       "...       ...    ...        ...          ...     ...     ...       ...   \n",
       "9737        0      0          0            0       0       1         0   \n",
       "9738        0      0          0            0       0       0         0   \n",
       "9739        0      0          0            0       0       0         0   \n",
       "9740        0      0          0            0       0       1         0   \n",
       "9741        0      0          0            0       0       0         0   \n",
       "\n",
       "      Horror  Romance  Comedy  Drama  Western  Fantasy  \n",
       "0          0        0       1      0        0        1  \n",
       "1          0        0       0      0        0        1  \n",
       "2          0        1       1      0        0        0  \n",
       "3          0        1       1      1        0        0  \n",
       "4          0        0       1      0        0        0  \n",
       "...      ...      ...     ...    ...      ...      ...  \n",
       "9737       0        0       1      0        0        1  \n",
       "9738       0        0       1      0        0        1  \n",
       "9739       0        0       0      1        0        0  \n",
       "9740       0        0       0      0        0        0  \n",
       "9741       0        0       1      0        0        0  \n",
       "\n",
       "[9742 rows x 20 columns]"
      ]
     },
     "execution_count": 103,
     "metadata": {},
     "output_type": "execute_result"
    }
   ],
   "source": [
    "movie_genres"
   ]
  },
  {
   "cell_type": "code",
   "execution_count": 104,
   "id": "8fc3d108",
   "metadata": {
    "ExecuteTime": {
     "end_time": "2024-04-24T14:14:06.165376Z",
     "start_time": "2024-04-24T14:14:05.978745Z"
    }
   },
   "outputs": [
    {
     "name": "stdout",
     "output_type": "stream",
     "text": [
      "Dimensions of our genres cosine similarity matrix: (9742, 9742)\n"
     ]
    }
   ],
   "source": [
    "from sklearn.metrics.pairwise import cosine_similarity\n",
    "\n",
    "cosine_sim = cosine_similarity(movie_genres, movie_genres)\n",
    "print(f\"Dimensions of our genres cosine similarity matrix: {cosine_sim.shape}\")"
   ]
  },
  {
   "cell_type": "code",
   "execution_count": 105,
   "id": "fb0a79e1",
   "metadata": {
    "ExecuteTime": {
     "end_time": "2024-04-24T14:14:15.246139Z",
     "start_time": "2024-04-24T14:14:15.234417Z"
    }
   },
   "outputs": [],
   "source": [
    "from fuzzywuzzy import process\n",
    "\n",
    "def movie_finder(title):\n",
    "    all_titles = movies['title'].tolist()\n",
    "    closest_match = process.extractOne(title,all_titles)\n",
    "    return closest_match[0]"
   ]
  },
  {
   "cell_type": "code",
   "execution_count": 110,
   "id": "e26cb72f",
   "metadata": {
    "ExecuteTime": {
     "end_time": "2024-04-24T14:15:03.782111Z",
     "start_time": "2024-04-24T14:15:03.766140Z"
    }
   },
   "outputs": [],
   "source": [
    "def get_content_based_recommendations(title_string, n_recommendations=10):\n",
    "    title = movie_finder(title_string)\n",
    "    idx = movie_idx[title]\n",
    "    sim_scores = list(enumerate(cosine_sim[idx]))\n",
    "    sim_scores = sorted(sim_scores, key=lambda x: x[1], reverse=True)\n",
    "    sim_scores = sim_scores[1:(n_recommendations+1)]\n",
    "    similar_movies = [i[0] for i in sim_scores]\n",
    "    print(f\"Because you watched {title}:\")\n",
    "    print(movies['title'].iloc[similar_movies])"
   ]
  },
  {
   "cell_type": "code",
   "execution_count": 111,
   "id": "1eb838e0",
   "metadata": {
    "ExecuteTime": {
     "end_time": "2024-04-24T14:15:16.916017Z",
     "start_time": "2024-04-24T14:15:11.125944Z"
    }
   },
   "outputs": [
    {
     "name": "stdout",
     "output_type": "stream",
     "text": [
      "Because you watched Toy Story (1995):\n",
      "1706                                       Antz (1998)\n",
      "2355                                Toy Story 2 (1999)\n",
      "2809    Adventures of Rocky and Bullwinkle, The (2000)\n",
      "3000                  Emperor's New Groove, The (2000)\n",
      "3568                             Monsters, Inc. (2001)\n",
      "Name: title, dtype: object\n"
     ]
    }
   ],
   "source": [
    "get_content_based_recommendations('toy story', 5)"
   ]
  },
  {
   "cell_type": "code",
   "execution_count": null,
   "id": "4b8ecbde",
   "metadata": {},
   "outputs": [],
   "source": []
  }
 ],
 "metadata": {
  "hide_input": false,
  "kernelspec": {
   "display_name": "Python 3 (ipykernel)",
   "language": "python",
   "name": "python3"
  },
  "language_info": {
   "codemirror_mode": {
    "name": "ipython",
    "version": 3
   },
   "file_extension": ".py",
   "mimetype": "text/x-python",
   "name": "python",
   "nbconvert_exporter": "python",
   "pygments_lexer": "ipython3",
   "version": "3.9.13"
  },
  "nbTranslate": {
   "displayLangs": [
    "*"
   ],
   "hotkey": "alt-t",
   "langInMainMenu": true,
   "sourceLang": "en",
   "targetLang": "fr",
   "useGoogleTranslate": true
  },
  "varInspector": {
   "cols": {
    "lenName": 16,
    "lenType": 16,
    "lenVar": 40
   },
   "kernels_config": {
    "python": {
     "delete_cmd_postfix": "",
     "delete_cmd_prefix": "del ",
     "library": "var_list.py",
     "varRefreshCmd": "print(var_dic_list())"
    },
    "r": {
     "delete_cmd_postfix": ") ",
     "delete_cmd_prefix": "rm(",
     "library": "var_list.r",
     "varRefreshCmd": "cat(var_dic_list()) "
    }
   },
   "types_to_exclude": [
    "module",
    "function",
    "builtin_function_or_method",
    "instance",
    "_Feature"
   ],
   "window_display": false
  }
 },
 "nbformat": 4,
 "nbformat_minor": 5
}

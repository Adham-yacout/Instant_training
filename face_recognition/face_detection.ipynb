{
 "cells": [
  {
   "cell_type": "code",
   "execution_count": 1,
   "id": "cb370e41",
   "metadata": {
    "ExecuteTime": {
     "end_time": "2024-04-22T00:40:02.384854Z",
     "start_time": "2024-04-22T00:40:02.026180Z"
    }
   },
   "outputs": [],
   "source": [
    "import cv2\n"
   ]
  },
  {
   "cell_type": "code",
   "execution_count": 2,
   "id": "57d3e4c4",
   "metadata": {
    "ExecuteTime": {
     "end_time": "2024-04-22T00:40:34.446700Z",
     "start_time": "2024-04-22T00:40:34.374444Z"
    }
   },
   "outputs": [
    {
     "data": {
      "text/plain": [
       "array([[[236, 201, 215],\n",
       "        [234, 199, 213],\n",
       "        [237, 202, 216],\n",
       "        ...,\n",
       "        [183, 172, 188],\n",
       "        [179, 167, 185],\n",
       "        [185, 173, 191]],\n",
       "\n",
       "       [[232, 197, 211],\n",
       "        [230, 195, 209],\n",
       "        [234, 199, 213],\n",
       "        ...,\n",
       "        [181, 170, 186],\n",
       "        [179, 167, 185],\n",
       "        [179, 167, 185]],\n",
       "\n",
       "       [[233, 199, 210],\n",
       "        [231, 197, 208],\n",
       "        [236, 202, 213],\n",
       "        ...,\n",
       "        [187, 177, 190],\n",
       "        [190, 179, 195],\n",
       "        [185, 174, 190]],\n",
       "\n",
       "       ...,\n",
       "\n",
       "       [[159, 158, 168],\n",
       "        [159, 158, 168],\n",
       "        [161, 157, 168],\n",
       "        ...,\n",
       "        [115, 113, 142],\n",
       "        [115, 116, 144],\n",
       "        [117, 118, 146]],\n",
       "\n",
       "       [[159, 158, 168],\n",
       "        [159, 158, 168],\n",
       "        [161, 157, 168],\n",
       "        ...,\n",
       "        [111, 109, 138],\n",
       "        [113, 111, 141],\n",
       "        [114, 112, 142]],\n",
       "\n",
       "       [[158, 157, 167],\n",
       "        [158, 157, 167],\n",
       "        [161, 157, 168],\n",
       "        ...,\n",
       "        [114, 112, 141],\n",
       "        [115, 113, 143],\n",
       "        [116, 114, 144]]], dtype=uint8)"
      ]
     },
     "execution_count": 2,
     "metadata": {},
     "output_type": "execute_result"
    }
   ],
   "source": [
    "img = cv2.imread('C:/Users/adham/Downloads/adham.jpg',1) \n",
    "img        "
   ]
  },
  {
   "cell_type": "code",
   "execution_count": 3,
   "id": "2629425c",
   "metadata": {
    "ExecuteTime": {
     "end_time": "2024-04-22T00:40:50.679269Z",
     "start_time": "2024-04-22T00:40:50.606364Z"
    }
   },
   "outputs": [],
   "source": [
    "face_cascade = cv2.CascadeClassifier(cv2.data.haarcascades + 'haarcascade_frontalface_default.xml')"
   ]
  },
  {
   "cell_type": "code",
   "execution_count": 13,
   "id": "38cf27ff",
   "metadata": {
    "ExecuteTime": {
     "end_time": "2024-04-22T00:51:30.573897Z",
     "start_time": "2024-04-22T00:51:05.425248Z"
    }
   },
   "outputs": [
    {
     "name": "stdout",
     "output_type": "stream",
     "text": [
      "Match found in image: adham.jpg\n",
      "Match found in image: domz.jpg\n"
     ]
    }
   ],
   "source": [
    "import os\n",
    "import cv2\n",
    "import face_recognition\n",
    "\n",
    "# Folder with images to process\n",
    "folder_path = 'C:/Users/adham/Downloads/images/'\n",
    "\n",
    "# Load the reference image\n",
    "reference_image_path = folder_path+'adham.jpg'\n",
    "reference_image = face_recognition.load_image_file(reference_image_path)\n",
    "reference_face_encoding = face_recognition.face_encodings(reference_image)[0]\n",
    "\n",
    "# Iterate over all images in the specified folder\n",
    "for image_name in os.listdir(folder_path):\n",
    "    if not image_name.lower().endswith(('.png', '.jpg', '.jpeg')):\n",
    "        continue  # Skip non-image files\n",
    "\n",
    "    image_path = os.path.join(folder_path, image_name)\n",
    "    img = cv2.imread(image_path)\n",
    "\n",
    "    # Convert the image to grayscale for face detection\n",
    "    gray_image = cv2.cvtColor(img, cv2.COLOR_BGR2GRAY)\n",
    "\n",
    "    # Detect faces\n",
    "    face_locations = face_recognition.face_locations(img)\n",
    "    face_encodings = face_recognition.face_encodings(img, face_locations)\n",
    "\n",
    "    # Draw rectangles around detected faces and compare with the reference face\n",
    "    for (top, right, bottom, left), face_encoding in zip(face_locations, face_encodings):\n",
    "        # Compare this face with the reference face\n",
    "        matches = face_recognition.compare_faces([reference_face_encoding], face_encoding, tolerance=0.6)\n",
    "\n",
    "        if True in matches:\n",
    "            print(f\"Match found in image: {image_name}\")\n",
    "            cv2.rectangle(img, (left, top), (right, bottom), (0, 255, 0), 2)\n",
    "\n",
    "    cv2.imshow('Image with Detected Faces', img)\n",
    "    k = cv2.waitKey(0)\n",
    "\n",
    "    if k == 27:\n",
    "        break  # Exit on pressing 'ESC'\n",
    "\n",
    "cv2.destroyAllWindows()\n"
   ]
  },
  {
   "cell_type": "code",
   "execution_count": 14,
   "id": "18d753bb",
   "metadata": {
    "ExecuteTime": {
     "end_time": "2024-04-22T00:53:04.343063Z",
     "start_time": "2024-04-22T00:52:46.962078Z"
    }
   },
   "outputs": [
    {
     "name": "stdout",
     "output_type": "stream",
     "text": [
      "Match found between adham.jpg and domz.jpg\n",
      "Match found between domz.jpg and adham.jpg\n",
      "Match found between elonmusk.jpg and eloon.jpg\n",
      "Match found between eloon.jpg and elonmusk.jpg\n"
     ]
    }
   ],
   "source": [
    "import os\n",
    "import cv2\n",
    "import face_recognition\n",
    "\n",
    "# Folder with images to process\n",
    "folder_path = 'C:/Users/adham/Downloads/images/'\n",
    "\n",
    "# Load all images, their face encodings, and face locations from the folder\n",
    "image_encodings = []\n",
    "image_names = []\n",
    "image_locations = []\n",
    "\n",
    "# Load images and get face encodings and face locations\n",
    "for image_name in os.listdir(folder_path):\n",
    "    if image_name.lower().endswith(('.png', '.jpg', '.jpeg')):\n",
    "        image_path = os.path.join(folder_path, image_name)\n",
    "        image = face_recognition.load_image_file(image_path)\n",
    "        \n",
    "        # Get face encodings and face locations for each image\n",
    "        encodings = face_recognition.face_encodings(image)\n",
    "        locations = face_recognition.face_locations(image)\n",
    "\n",
    "        if encodings and locations:  # If valid face encodings and locations\n",
    "            image_encodings.append(encodings[0])\n",
    "            image_names.append(image_name)\n",
    "            image_locations.append(locations[0])  # Store the first face location\n",
    "\n",
    "# Compare each image with all other images\n",
    "for i, (img_name, img_encoding, img_location) in enumerate(zip(image_names, image_encodings, image_locations)):\n",
    "    img_path = os.path.join(folder_path, img_name)\n",
    "    img = cv2.imread(img_path)\n",
    "\n",
    "    # Draw rectangle around the detected face in the current image\n",
    "    top, right, bottom, left = img_location\n",
    "    cv2.rectangle(img, (left, top), (right, bottom), (0, 255, 0), 2)  # Rectangle for visualization\n",
    "\n",
    "    # Loop through all other images for comparison\n",
    "    for j, (other_name, other_encoding, other_location) in enumerate(zip(image_names, image_encodings, image_locations)):\n",
    "        if i == j:\n",
    "            continue  # Don't compare with the same image\n",
    "\n",
    "        # Compare face encodings\n",
    "        matches = face_recognition.compare_faces([other_encoding], img_encoding, tolerance=0.6)\n",
    "\n",
    "        if True in matches:\n",
    "            print(f\"Match found between {img_name} and {other_name}\")\n",
    "\n",
    "            # Draw rectangle around the matching face in the other image\n",
    "            top, right, bottom, left = other_location\n",
    "            cv2.rectangle(img, (left, top), (right, bottom), (0, 255, 0), 2)\n",
    "\n",
    "    cv2.imshow(f'Image with Matches: {img_name}', img)\n",
    "    k = cv2.waitKey(0)\n",
    "\n",
    "    if k == 27:\n",
    "        break  # Exit on pressing 'ESC'\n",
    "\n",
    "cv2.destroyAllWindows()\n"
   ]
  },
  {
   "cell_type": "code",
   "execution_count": 15,
   "id": "71e531d8",
   "metadata": {
    "ExecuteTime": {
     "end_time": "2024-04-22T00:56:11.569284Z",
     "start_time": "2024-04-22T00:54:12.275474Z"
    }
   },
   "outputs": [
    {
     "name": "stdout",
     "output_type": "stream",
     "text": [
      "Match found: adham.jpg\n",
      "Match found: adham.jpg\n",
      "Match found: adham.jpg\n",
      "Match found: adham.jpg\n",
      "Match found: adham.jpg\n",
      "Match found: adham.jpg\n",
      "Match found: adham.jpg\n",
      "Match found: adham.jpg\n",
      "Match found: adham.jpg\n",
      "Match found: adham.jpg\n",
      "Match found: adham.jpg\n",
      "Match found: adham.jpg\n",
      "Match found: adham.jpg\n",
      "Match found: adham.jpg\n",
      "Match found: adham.jpg\n",
      "Match found: adham.jpg\n",
      "Match found: adham.jpg\n",
      "Match found: adham.jpg\n",
      "Match found: adham.jpg\n",
      "Match found: adham.jpg\n",
      "Match found: adham.jpg\n",
      "Match found: adham.jpg\n",
      "Match found: adham.jpg\n",
      "Match found: adham.jpg\n",
      "Match found: adham.jpg\n",
      "Match found: adham.jpg\n",
      "Match found: adham.jpg\n",
      "Match found: adham.jpg\n",
      "Match found: elonmusk.jpg\n",
      "Match found: adham.jpg\n",
      "Match found: elonmusk.jpg\n",
      "Match found: adham.jpg\n",
      "Match found: elonmusk.jpg\n",
      "Match found: adham.jpg\n",
      "Match found: adham.jpg\n",
      "Match found: adham.jpg\n",
      "Match found: adham.jpg\n",
      "Match found: adham.jpg\n",
      "Match found: adham.jpg\n",
      "Match found: adham.jpg\n",
      "Match found: adham.jpg\n",
      "Match found: adham.jpg\n",
      "Match found: adham.jpg\n",
      "Match found: adham.jpg\n",
      "Match found: adham.jpg\n",
      "Match found: adham.jpg\n",
      "Match found: adham.jpg\n",
      "Match found: adham.jpg\n",
      "Match found: adham.jpg\n",
      "Match found: adham.jpg\n",
      "Match found: adham.jpg\n",
      "Match found: adham.jpg\n",
      "Match found: adham.jpg\n",
      "Match found: adham.jpg\n",
      "Match found: adham.jpg\n",
      "Match found: adham.jpg\n",
      "Match found: adham.jpg\n",
      "Match found: adham.jpg\n",
      "Match found: adham.jpg\n",
      "Match found: adham.jpg\n",
      "Match found: adham.jpg\n",
      "Match found: adham.jpg\n",
      "Match found: adham.jpg\n",
      "Match found: adham.jpg\n",
      "Match found: adham.jpg\n",
      "Match found: adham.jpg\n",
      "Match found: adham.jpg\n",
      "Match found: adham.jpg\n",
      "Match found: adham.jpg\n",
      "Match found: adham.jpg\n",
      "Match found: adham.jpg\n",
      "Match found: adham.jpg\n",
      "Match found: adham.jpg\n",
      "Match found: adham.jpg\n",
      "Match found: adham.jpg\n",
      "Match found: adham.jpg\n",
      "Match found: adham.jpg\n",
      "Match found: adham.jpg\n",
      "Match found: adham.jpg\n",
      "Match found: adham.jpg\n",
      "Match found: adham.jpg\n",
      "Match found: adham.jpg\n",
      "Match found: adham.jpg\n",
      "Match found: adham.jpg\n",
      "Match found: adham.jpg\n",
      "Match found: adham.jpg\n",
      "Match found: adham.jpg\n",
      "Match found: adham.jpg\n",
      "Match found: adham.jpg\n",
      "Match found: adham.jpg\n",
      "Match found: adham.jpg\n",
      "Match found: adham.jpg\n",
      "Match found: adham.jpg\n",
      "Match found: adham.jpg\n",
      "Match found: adham.jpg\n",
      "Match found: adham.jpg\n",
      "Match found: adham.jpg\n",
      "Match found: adham.jpg\n",
      "Match found: adham.jpg\n",
      "Match found: adham.jpg\n",
      "Match found: adham.jpg\n"
     ]
    }
   ],
   "source": [
    "import os\n",
    "import cv2\n",
    "import face_recognition\n",
    "\n",
    "# Folder with reference images to process\n",
    "folder_path = 'C:/Users/adham/Downloads/images/'\n",
    "\n",
    "# Load face encodings and corresponding names from the folder\n",
    "reference_face_encodings = []\n",
    "reference_face_names = []\n",
    "\n",
    "for image_name in os.listdir(folder_path):\n",
    "    if image_name.lower().endswith(('.png', '.jpg', '.jpeg')):\n",
    "        image_path = os.path.join(folder_path, image_name)\n",
    "        image = face_recognition.load_image_file(image_path)\n",
    "        \n",
    "        # Get the face encodings\n",
    "        encodings = face_recognition.face_encodings(image)\n",
    "        \n",
    "        if encodings:  # If there are valid face encodings\n",
    "            reference_face_encodings.append(encodings[0])\n",
    "            reference_face_names.append(image_name)  # Using image name to represent the reference name\n",
    "\n",
    "# Open the front camera (webcam)\n",
    "camera = cv2.VideoCapture(0)  # 0 typically refers to the default webcam\n",
    "\n",
    "# Continuously capture frames from the webcam\n",
    "while True:\n",
    "    ret, frame = camera.read()\n",
    "    \n",
    "    if not ret:\n",
    "        break  # If capturing failed, break the loop\n",
    "    \n",
    "    # Detect faces in the current frame\n",
    "    face_locations = face_recognition.face_locations(frame)\n",
    "    face_encodings = face_recognition.face_encodings(frame, face_locations)\n",
    "\n",
    "    # Compare with reference face encodings\n",
    "    for (top, right, bottom, left), face_encoding in zip(face_locations, face_encodings):\n",
    "        matches = face_recognition.compare_faces(reference_face_encodings, face_encoding, tolerance=0.6)\n",
    "        name = \"Unknown\"\n",
    "\n",
    "        if True in matches:\n",
    "            match_index = matches.index(True)\n",
    "            name = reference_face_names[match_index]  # Get the name of the matched face\n",
    "\n",
    "        # Draw a rectangle around the detected face and add the name\n",
    "        cv2.rectangle(frame, (left, top), (right, bottom), (0, 255, 0), 2)\n",
    "        cv2.putText(frame, name, (left, top - 10), cv2.FONT_HERSHEY_SIMPLEX, 0.9, (0, 255, 0), 2)\n",
    "\n",
    "        if name != \"Unknown\":\n",
    "            print(f\"Match found: {name}\")\n",
    "\n",
    "    cv2.imshow('Webcam Face Detection', frame)\n",
    "    \n",
    "    # Exit if 'q' is pressed\n",
    "    if cv2.waitKey(1) & 0xFF == ord('q'):\n",
    "        break\n",
    "\n",
    "camera.release()\n",
    "cv2.destroyAllWindows()\n"
   ]
  },
  {
   "cell_type": "code",
   "execution_count": null,
   "id": "7f7f71e6",
   "metadata": {},
   "outputs": [],
   "source": []
  }
 ],
 "metadata": {
  "hide_input": false,
  "kernelspec": {
   "display_name": "Python 3 (ipykernel)",
   "language": "python",
   "name": "python3"
  },
  "language_info": {
   "codemirror_mode": {
    "name": "ipython",
    "version": 3
   },
   "file_extension": ".py",
   "mimetype": "text/x-python",
   "name": "python",
   "nbconvert_exporter": "python",
   "pygments_lexer": "ipython3",
   "version": "3.9.13"
  },
  "nbTranslate": {
   "displayLangs": [
    "*"
   ],
   "hotkey": "alt-t",
   "langInMainMenu": true,
   "sourceLang": "en",
   "targetLang": "fr",
   "useGoogleTranslate": true
  },
  "varInspector": {
   "cols": {
    "lenName": 16,
    "lenType": 16,
    "lenVar": 40
   },
   "kernels_config": {
    "python": {
     "delete_cmd_postfix": "",
     "delete_cmd_prefix": "del ",
     "library": "var_list.py",
     "varRefreshCmd": "print(var_dic_list())"
    },
    "r": {
     "delete_cmd_postfix": ") ",
     "delete_cmd_prefix": "rm(",
     "library": "var_list.r",
     "varRefreshCmd": "cat(var_dic_list()) "
    }
   },
   "types_to_exclude": [
    "module",
    "function",
    "builtin_function_or_method",
    "instance",
    "_Feature"
   ],
   "window_display": false
  }
 },
 "nbformat": 4,
 "nbformat_minor": 5
}
